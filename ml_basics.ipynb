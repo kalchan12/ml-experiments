{
 "cells": [
  {
   "cell_type": "code",
   "execution_count": 1,
   "id": "1e140904-a54e-4fc5-983b-55af3ee307a0",
   "metadata": {},
   "outputs": [
    {
     "name": "stdout",
     "output_type": "stream",
     "text": [
      "89.76923076923077\n"
     ]
    }
   ],
   "source": [
    "#Use the NumPy mean() method to find the average speed:\n",
    "import numpy\n",
    "speed = [99,86,87,88,111,86,103,87,94,78,77,85,86]\n",
    "x = numpy.mean(speed)\n",
    "print(x)"
   ]
  },
  {
   "cell_type": "code",
   "execution_count": 2,
   "id": "0cd0fad5-5b1a-474a-8a71-5d176d9254e5",
   "metadata": {},
   "outputs": [
    {
     "name": "stdout",
     "output_type": "stream",
     "text": [
      "87.0\n"
     ]
    }
   ],
   "source": [
    "#Use the NumPy median() method to find the middle value:\n",
    "import numpy\n",
    "speed = [99,86,87,88,111,86,103,87,94,78,77,85,86]\n",
    "x = numpy.median(speed)\n",
    "print(x)"
   ]
  },
  {
   "cell_type": "code",
   "execution_count": 3,
   "id": "a0c6ace1-66b5-4e18-af70-c50ca06e7883",
   "metadata": {},
   "outputs": [
    {
     "name": "stdout",
     "output_type": "stream",
     "text": [
      "86.5\n"
     ]
    }
   ],
   "source": [
    "#Use the NumPy median() method to find the middle value:\n",
    "import numpy\n",
    "speed = [99,86,87,88,86,103,87,94,78,77,85,86]\n",
    "x = numpy.median(speed)\n",
    "print(x)"
   ]
  },
  {
   "cell_type": "code",
   "execution_count": 4,
   "id": "09923fa4-5e90-490d-9366-3eb3f7c981fb",
   "metadata": {},
   "outputs": [
    {
     "name": "stdout",
     "output_type": "stream",
     "text": [
      "ModeResult(mode=np.int64(86), count=np.int64(3))\n"
     ]
    }
   ],
   "source": [
    "#Use the SciPy mode() method to find the number that appears the most:\n",
    "from scipy import stats\n",
    "speed = [99,86,87,88,111,86,103,87,94,78,77,85,86]\n",
    "x = stats.mode(speed)\n",
    "print(x)"
   ]
  },
  {
   "cell_type": "code",
   "execution_count": 5,
   "id": "cb10f0aa-0992-46e7-9f6b-67ed6996392a",
   "metadata": {},
   "outputs": [
    {
     "name": "stdout",
     "output_type": "stream",
     "text": [
      "0.9035079029052513\n"
     ]
    }
   ],
   "source": [
    "#Use the NumPy std() method to find the standard deviation:\n",
    "import numpy\n",
    "speed = [86,87,88,86,87,85,86]\n",
    "x = numpy.std(speed)\n",
    "print(x)"
   ]
  },
  {
   "cell_type": "code",
   "execution_count": 6,
   "id": "0a735f4f-f986-403b-9bea-760e5ba96455",
   "metadata": {},
   "outputs": [
    {
     "name": "stdout",
     "output_type": "stream",
     "text": [
      "1432.2448979591834\n"
     ]
    }
   ],
   "source": [
    "#Use the NumPy var() method to find the variance:\n",
    "import numpy\n",
    "speed = [32,111,138,28,59,77,97]\n",
    "x = numpy.var(speed)\n",
    "print(x)"
   ]
  },
  {
   "cell_type": "code",
   "execution_count": 7,
   "id": "9dd63f8e-351e-49e4-bf46-88920c9b4239",
   "metadata": {},
   "outputs": [
    {
     "name": "stdout",
     "output_type": "stream",
     "text": [
      "37.84501153334721\n"
     ]
    }
   ],
   "source": [
    "#Use the NumPy var() method to find the variance:\n",
    "import numpy\n",
    "speed = [32,111,138,28,59,77,97]\n",
    "x = numpy.std(speed)\n",
    "print(x)"
   ]
  },
  {
   "cell_type": "code",
   "execution_count": 8,
   "id": "a047e6b3-f71d-4557-b679-da7cddd6df97",
   "metadata": {},
   "outputs": [
    {
     "name": "stdout",
     "output_type": "stream",
     "text": [
      "[0.73727857 1.94789912 0.24751663 4.83029164 3.43407219 4.35159252\n",
      " 1.89235482 1.40778686 2.2120377  4.97885128 0.88799806 0.71295285\n",
      " 2.04509775 0.31838015 0.60348909 1.07207929 0.11092982 0.09263156\n",
      " 4.0881249  3.83656931 0.09889152 1.62872267 2.49788751 2.51257129\n",
      " 2.22294505 2.90226021 2.41563644 1.99045608 0.25448281 0.38745258\n",
      " 1.53906858 0.84940141 0.42092751 0.29079285 3.33215214 0.33467612\n",
      " 0.75214136 1.34676195 0.951949   2.92284732 1.83015804 4.96625065\n",
      " 2.04272335 1.42840233 3.15976424 2.3376526  3.68730961 3.26973766\n",
      " 0.38546543 2.81872824 3.35092388 2.7476076  1.18161597 3.07337201\n",
      " 3.12093604 2.94529521 2.31912945 4.30817935 4.47339662 0.36707818\n",
      " 4.56909789 1.27136354 2.34573215 1.41904225 3.8652733  4.64390619\n",
      " 1.81527615 1.9142353  0.40409592 1.8039964  0.19967746 1.94863885\n",
      " 0.61006882 4.95015346 1.64876008 4.75610248 2.18286536 4.88377613\n",
      " 4.36314458 3.01075519 2.96004748 4.27569446 3.40197562 2.76480417\n",
      " 4.61057087 3.89357425 2.81350357 1.84485315 0.18547139 0.02306882\n",
      " 0.52994574 0.434036   1.70648208 4.38315682 4.98519556 1.43710345\n",
      " 0.15909569 1.76977328 1.92577122 0.11214333 2.09088603 2.84115831\n",
      " 0.29332159 0.29231837 1.4185905  4.65149569 4.81741948 1.20959739\n",
      " 4.47517823 0.94088815 3.38333634 4.88287745 1.85647638 4.59232163\n",
      " 4.63949941 3.96008573 1.73754426 1.23415825 2.41417553 2.44853353\n",
      " 3.33932882 0.12836127 1.14310854 0.07041235 4.29685863 3.32261863\n",
      " 3.7573632  4.26200171 0.68168835 4.65460656 2.14603808 4.55048541\n",
      " 2.75317294 0.88063936 0.14849626 1.19345102 1.7462587  4.08984349\n",
      " 2.08665058 0.45933783 2.64255193 2.66893294 3.49944519 3.29002134\n",
      " 3.20231973 2.60087536 1.2024518  3.61493089 1.81627409 4.22889287\n",
      " 3.89898004 1.78705215 2.45549797 1.52510293 1.34604012 3.88248701\n",
      " 2.85392425 0.71107539 4.89756778 3.14570921 3.15853798 2.73370773\n",
      " 0.37600665 3.92931793 1.76244825 1.96800837 3.48805037 3.99868419\n",
      " 4.79735407 0.24252963 0.0103829  1.98439818 4.80622927 3.27904513\n",
      " 4.20458283 3.20524691 4.65827275 4.36712613 1.26300726 1.2486007\n",
      " 0.22806664 1.87326426 3.8453942  2.369794   0.31921607 4.66736721\n",
      " 0.72727764 1.44298491 3.41787189 4.34875537 4.69002876 0.87355217\n",
      " 3.54913134 0.30695779 0.55591349 0.93648709 4.79591305 0.12808506\n",
      " 0.12866682 1.60389648 0.93920844 0.84445563 4.80720314 4.30647096\n",
      " 2.64017101 1.79590406 1.51546962 3.92391345 4.6179605  1.80990294\n",
      " 0.78582563 2.75841622 1.30032943 0.28898631 1.81620638 2.2138033\n",
      " 2.05315403 0.98953345 4.83684009 2.99846216 0.27830761 1.30545619\n",
      " 3.56588528 1.5945601  2.5369873  3.09644961 4.36338545 1.28069337\n",
      " 3.85826759 0.42881142 4.59893537 2.072061   1.14649899 4.66518471\n",
      " 2.98171377 3.97113759 4.54888247 3.10370359 3.43389864 1.48070033\n",
      " 2.07209988 1.07082836 1.35041676 4.85179331 1.11166662 1.13815856\n",
      " 1.67356654 2.32228081 3.11851471 1.69177624]\n"
     ]
    }
   ],
   "source": [
    "#Create an array containing 250 random floats between 0 and 5:\n",
    "import numpy\n",
    "x = numpy.random.uniform(0.0, 5.0, 250)\n",
    "print(x)"
   ]
  },
  {
   "cell_type": "code",
   "execution_count": null,
   "id": "7eac26c2-a3ec-4aad-b6cb-78d2bae6195b",
   "metadata": {},
   "outputs": [],
   "source": []
  }
 ],
 "metadata": {
  "kernelspec": {
   "display_name": "Python 3 (ipykernel)",
   "language": "python",
   "name": "python3"
  },
  "language_info": {
   "codemirror_mode": {
    "name": "ipython",
    "version": 3
   },
   "file_extension": ".py",
   "mimetype": "text/x-python",
   "name": "python",
   "nbconvert_exporter": "python",
   "pygments_lexer": "ipython3",
   "version": "3.10.18"
  }
 },
 "nbformat": 4,
 "nbformat_minor": 5
}
